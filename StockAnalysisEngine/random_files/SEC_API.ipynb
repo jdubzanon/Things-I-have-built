{
 "cells": [
  {
   "cell_type": "code",
   "execution_count": 1,
   "id": "a2f0ab92-9488-4727-9d32-85cc8bfb3ba0",
   "metadata": {},
   "outputs": [],
   "source": [
    "import pandas as pd\n",
    "import requests\n",
    "import json\n",
    "import numpy as np"
   ]
  },
  {
   "cell_type": "code",
   "execution_count": 2,
   "id": "45c79053-1a2c-4a32-bc8f-effb6fb84ca1",
   "metadata": {
    "scrolled": true
   },
   "outputs": [
    {
     "data": {
      "text/html": [
       "<div>\n",
       "<style scoped>\n",
       "    .dataframe tbody tr th:only-of-type {\n",
       "        vertical-align: middle;\n",
       "    }\n",
       "\n",
       "    .dataframe tbody tr th {\n",
       "        vertical-align: top;\n",
       "    }\n",
       "\n",
       "    .dataframe thead th {\n",
       "        text-align: right;\n",
       "    }\n",
       "</style>\n",
       "<table border=\"1\" class=\"dataframe\">\n",
       "  <thead>\n",
       "    <tr style=\"text-align: right;\">\n",
       "      <th></th>\n",
       "      <th>cik_str</th>\n",
       "      <th>ticker</th>\n",
       "      <th>title</th>\n",
       "    </tr>\n",
       "  </thead>\n",
       "  <tbody>\n",
       "    <tr>\n",
       "      <th>0</th>\n",
       "      <td>320193</td>\n",
       "      <td>AAPL</td>\n",
       "      <td>Apple Inc.</td>\n",
       "    </tr>\n",
       "    <tr>\n",
       "      <th>1</th>\n",
       "      <td>789019</td>\n",
       "      <td>MSFT</td>\n",
       "      <td>MICROSOFT CORP</td>\n",
       "    </tr>\n",
       "    <tr>\n",
       "      <th>2</th>\n",
       "      <td>1652044</td>\n",
       "      <td>GOOGL</td>\n",
       "      <td>Alphabet Inc.</td>\n",
       "    </tr>\n",
       "    <tr>\n",
       "      <th>3</th>\n",
       "      <td>1018724</td>\n",
       "      <td>AMZN</td>\n",
       "      <td>AMAZON COM INC</td>\n",
       "    </tr>\n",
       "    <tr>\n",
       "      <th>4</th>\n",
       "      <td>1045810</td>\n",
       "      <td>NVDA</td>\n",
       "      <td>NVIDIA CORP</td>\n",
       "    </tr>\n",
       "    <tr>\n",
       "      <th>...</th>\n",
       "      <td>...</td>\n",
       "      <td>...</td>\n",
       "      <td>...</td>\n",
       "    </tr>\n",
       "    <tr>\n",
       "      <th>8952</th>\n",
       "      <td>1000209</td>\n",
       "      <td>MBNKP</td>\n",
       "      <td>MEDALLION FINANCIAL CORP</td>\n",
       "    </tr>\n",
       "    <tr>\n",
       "      <th>8953</th>\n",
       "      <td>798941</td>\n",
       "      <td>FCNCP</td>\n",
       "      <td>FIRST CITIZENS BANCSHARES INC /DE/</td>\n",
       "    </tr>\n",
       "    <tr>\n",
       "      <th>8954</th>\n",
       "      <td>866368</td>\n",
       "      <td>PSBYP</td>\n",
       "      <td>PS BUSINESS PARKS, INC./MD</td>\n",
       "    </tr>\n",
       "    <tr>\n",
       "      <th>8955</th>\n",
       "      <td>866368</td>\n",
       "      <td>PSBXP</td>\n",
       "      <td>PS BUSINESS PARKS, INC./MD</td>\n",
       "    </tr>\n",
       "    <tr>\n",
       "      <th>8956</th>\n",
       "      <td>866368</td>\n",
       "      <td>PSBZP</td>\n",
       "      <td>PS BUSINESS PARKS, INC./MD</td>\n",
       "    </tr>\n",
       "  </tbody>\n",
       "</table>\n",
       "<p>8957 rows × 3 columns</p>\n",
       "</div>"
      ],
      "text/plain": [
       "      cik_str ticker                               title\n",
       "0      320193   AAPL                          Apple Inc.\n",
       "1      789019   MSFT                      MICROSOFT CORP\n",
       "2     1652044  GOOGL                       Alphabet Inc.\n",
       "3     1018724   AMZN                      AMAZON COM INC\n",
       "4     1045810   NVDA                         NVIDIA CORP\n",
       "...       ...    ...                                 ...\n",
       "8952  1000209  MBNKP            MEDALLION FINANCIAL CORP\n",
       "8953   798941  FCNCP  FIRST CITIZENS BANCSHARES INC /DE/\n",
       "8954   866368  PSBYP          PS BUSINESS PARKS, INC./MD\n",
       "8955   866368  PSBXP          PS BUSINESS PARKS, INC./MD\n",
       "8956   866368  PSBZP          PS BUSINESS PARKS, INC./MD\n",
       "\n",
       "[8957 rows x 3 columns]"
      ]
     },
     "execution_count": 2,
     "metadata": {},
     "output_type": "execute_result"
    }
   ],
   "source": [
    "header = {'User-Agent': 'thorntonbill343@gmail.com'}\n",
    "req = requests.get('https://www.sec.gov/files/company_tickers.json', headers=header)\n",
    "ciks = req.json()\n",
    "df = pd.DataFrame(ciks).T\n",
    "df"
   ]
  },
  {
   "cell_type": "code",
   "execution_count": 3,
   "id": "206c9c94-65d5-430c-be63-1d0a1a73f443",
   "metadata": {},
   "outputs": [
    {
     "data": {
      "text/plain": [
       "'0001045810'"
      ]
     },
     "execution_count": 3,
     "metadata": {},
     "output_type": "execute_result"
    }
   ],
   "source": [
    "#getting cik number\n",
    "cikk = None\n",
    "count = 0\n",
    "for ticker in df['ticker']:\n",
    "    count +=1\n",
    "    if ticker == 'nvda'.upper():\n",
    "        cikk = str(df.iloc[count-1].cik_str).zfill(10)\n",
    "cikk"
   ]
  },
  {
   "cell_type": "code",
   "execution_count": 4,
   "id": "287f8197-f52e-4605-85bc-695d9959e4df",
   "metadata": {},
   "outputs": [
    {
     "data": {
      "text/plain": [
       "200"
      ]
     },
     "execution_count": 4,
     "metadata": {},
     "output_type": "execute_result"
    }
   ],
   "source": [
    "#creating url\n",
    "url = 'https://data.sec.gov/api/xbrl/companyfacts/CIK'\n",
    "full_url = url + cikk + '.json'\n",
    "full_url\n",
    "data = requests.get(full_url,headers=header)\n",
    "data.status_code"
   ]
  },
  {
   "cell_type": "code",
   "execution_count": 5,
   "id": "c5c12faa",
   "metadata": {},
   "outputs": [],
   "source": [
    "obj = data.json()"
   ]
  },
  {
   "cell_type": "code",
   "execution_count": 6,
   "id": "fbde21eb-8ddc-4f0c-9d95-233f4e2fb812",
   "metadata": {},
   "outputs": [
    {
     "data": {
      "text/plain": [
       "'https://data.sec.gov/api/xbrl/companyfacts/CIK0001045810.json'"
      ]
     },
     "execution_count": 6,
     "metadata": {},
     "output_type": "execute_result"
    }
   ],
   "source": [
    "full_url"
   ]
  },
  {
   "cell_type": "code",
   "execution_count": 6,
   "id": "d4880e15",
   "metadata": {},
   "outputs": [
    {
     "data": {
      "text/plain": [
       "18239000000"
      ]
     },
     "execution_count": 6,
     "metadata": {},
     "output_type": "execute_result"
    }
   ],
   "source": [
    "#getting the mean of the revenue\n",
    "rev_arr = list()\n",
    "rev_columns = ['start','end','val','form']\n",
    "rev_df = pd.DataFrame(obj['facts']['us-gaap']['Revenues']['units']['USD'],columns=rev_columns)\n",
    "rev_df.iloc[0]\n",
    "counter = 0\n",
    "\n",
    "for form in rev_df['form'][:]:\n",
    "    if form == '10-K':\n",
    "        start_date = pd.to_datetime(rev_df.iloc[counter]['start'])\n",
    "        end_date = pd.to_datetime(rev_df.iloc[counter]['end'])\n",
    "        if all([((end_date - start_date).days > 300), rev_df.iloc[counter]['val'] not in rev_arr]):\n",
    "            #date_vals[df2.iloc[counter]['start']] = df2.iloc[counter]['val']\n",
    "            rev_arr.append(rev_df.iloc[counter]['val'])\n",
    "    counter += 1\n",
    "\n",
    "#revenue mean all years\n",
    "rev_mean_all_years = round(np.array(rev_arr).mean())\n",
    "\n",
    "#revenue mean last 5 years\n",
    "rev_mean_last_five_years = round(np.array(rev_arr[-5:]).mean())\n",
    "rev_mean_last_five_years"
   ]
  },
  {
   "cell_type": "code",
   "execution_count": 7,
   "id": "642e95b8",
   "metadata": {},
   "outputs": [],
   "source": [
    "#getting cost of goods sold mean\n",
    "cogs_arr = list()\n",
    "cogs_columns = ['start','end','val','form']\n",
    "cogs_df = pd.DataFrame(obj['facts']['us-gaap']['CostOfRevenue']['units']['USD'],columns=cogs_columns)\n",
    "counter = 0\n",
    "\n",
    "for cogs_form in cogs_df['form'][:]:\n",
    "    if cogs_form == '10-K':\n",
    "        cogs_start_date = pd.to_datetime(cogs_df.iloc[counter]['start'])\n",
    "        cogs_end_date = pd.to_datetime(cogs_df.iloc[counter]['end'])\n",
    "        if all([(cogs_end_date - cogs_start_date).days > 300, cogs_df.iloc[counter]['val'] not in cogs_arr]):\n",
    "            cogs_arr.append(cogs_df.iloc[counter]['val'])\n",
    "    counter += 1\n",
    "        # print(cogs_df['start'],cogs_df['end'])\n",
    "cogs_mean_all_years = round(np.array(cogs_arr).mean())\n",
    "cogs_mean_last_five_years = round(np.array(cogs_arr[-5:]).mean())\n"
   ]
  },
  {
   "cell_type": "code",
   "execution_count": 8,
   "id": "9f1afc85-5fe2-4718-8016-66416ac08141",
   "metadata": {},
   "outputs": [
    {
     "name": "stdout",
     "output_type": "stream",
     "text": [
      "40% 5 yrs 38.79\n",
      "40% all years 42.59\n"
     ]
    }
   ],
   "source": [
    "#calculating if rev over 40%\n",
    "fourty_percent_check_all_years = round((cogs_mean_all_years / rev_mean_all_years) * 100, 2)\n",
    "fourty_percent_check_last_five_years = round(cogs_mean_last_five_years / rev_mean_last_five_years * 100,2)\n",
    "print('40% 5 yrs',fourty_percent_check_last_five_years)\n",
    "print('40% all years', fourty_percent_check_all_years)"
   ]
  },
  {
   "cell_type": "code",
   "execution_count": 9,
   "id": "38050fb5-aa52-4982-a331-280148db7382",
   "metadata": {},
   "outputs": [
    {
     "name": "stdout",
     "output_type": "stream",
     "text": [
      "mean growth total 14.33\n",
      "mean growth last five years 33.46\n"
     ]
    }
   ],
   "source": [
    "#revenue percent growth/decline avg\n",
    "rev_growth_arr = list()\n",
    "count = 0\n",
    "diff = None\n",
    "cp_rev_arr = rev_arr.copy()\n",
    "cp_rev_arr.reverse()\n",
    "for arr_loc in range(0,len(rev_arr) + 1):\n",
    "    count += 1\n",
    "    if count == len(rev_arr):\n",
    "        break\n",
    "    \n",
    "    \n",
    "    # print(arr_loc,count)\n",
    "    else:\n",
    "      \n",
    "        diff = round(((cp_rev_arr[arr_loc] - cp_rev_arr[count]) / cp_rev_arr[count]) * 100, 2)\n",
    "        rev_growth_arr.append(diff)\n",
    "mean_growth_total = round(np.array(rev_growth_arr).mean(),2)\n",
    "mean_growth_last_five = round(np.array(rev_growth_arr[:5]).mean(),2)\n",
    "print(\"mean growth total\",mean_growth_total)\n",
    "print('mean growth last five years', mean_growth_last_five)"
   ]
  },
  {
   "cell_type": "code",
   "execution_count": 11,
   "id": "39ab8470-c045-4b48-b216-28175e7fbd85",
   "metadata": {},
   "outputs": [],
   "source": [
    "#getting sga values list for compairison of gross profit to sga\n",
    "sga_arr = list()\n",
    "sga_columns = ['start','end','val','form']\n",
    "sga_df = pd.DataFrame(obj['facts']['us-gaap']['SellingGeneralAndAdministrativeExpense']['units']['USD'], columns=sga_columns)\n",
    "count = 0\n",
    "sga_df.iloc[0]\n",
    "for form in sga_df['form'][:]:\n",
    "    if form == '10-K':\n",
    "        sga_start_date = pd.to_datetime(sga_df.iloc[count]['start'])\n",
    "        sga_end_date = pd.to_datetime(sga_df.iloc[count]['end'])\n",
    "        if all([(sga_end_date - sga_start_date).days > 300,\n",
    "                sga_df.iloc[count]['val'] not in sga_arr]):\n",
    "            sga_arr.append(sga_df.iloc[count]['val'])\n",
    "    count += 1"
   ]
  },
  {
   "cell_type": "code",
   "execution_count": 27,
   "id": "08e7a0fb-6f1d-43f6-8c02-5c8baa998fe5",
   "metadata": {},
   "outputs": [
    {
     "name": "stdout",
     "output_type": "stream",
     "text": [
      "SGA percent of gross profit standard deviation for all years is 5.19\n",
      "SGA percent of gross profit standard deviation last five years is 2.30\n"
     ]
    }
   ],
   "source": [
    "#stabilizing the list length values for zipping and sga gross profit analysis\n",
    "cp_rev_arr = rev_arr.copy()\n",
    "cp_cogs_arr = cogs_arr.copy()\n",
    "cp_sga_arr = sga_arr.copy()\n",
    "shortest_lst_length = np.min(np.array([len(cp_rev_arr),len(cp_cogs_arr),len(cp_sga_arr)]))\n",
    "while len(cp_rev_arr) > shortest_lst_length:\n",
    "    cp_rev_arr.pop(0)\n",
    "while len(cp_cogs_arr) > shortest_lst_length:\n",
    "    cp_cogs_arr.pop(0)\n",
    "while len(cp_sga_arr) > shortest_lst_length:\n",
    "    cp_sga_arr.pop(0)\n",
    "cp_rev_arr.reverse()\n",
    "cp_cogs_arr.reverse()\n",
    "cp_sga_arr.reverse()\n",
    "\n",
    "gross_profit = None\n",
    "sga_percent = None\n",
    "# sga_percent_arr = list()\n",
    "# for rev,cogs,sga in zip(cp_rev_arr,cp_cogs_arr,cp_sga_arr):\n",
    "#     gross_profit = rev - cogs\n",
    "#     sga_percent = round((sga / gross_profit) * 100,2)\n",
    "#     sga_percent_arr.append(sga_percent)\n",
    "\n",
    "#replacing above code\n",
    "calc = lambda sga,rev,cogs : round(sga/(rev-cogs)*100,2)\n",
    "sga_percent_arr = list(map(calc, cp_sga_arr,cp_rev_arr,cp_cogs_arr  ))\n",
    "\n",
    "sga_analysis_prep_all_years = pd.Series(sga_percent_arr)\n",
    "sga_analysis_prep_last_five_years = pd.Series(sga_percent_arr[:5])\n",
    "std_all_years = round(sga_analysis_prep_all_years.std(),2)\n",
    "std_last_five_years = round(sga_analysis_prep_last_five_years.std(),2)\n",
    "print('SGA percent of gross profit standard deviation for all years is %.2f' %(std_all_years))\n",
    "print('SGA percent of gross profit standard deviation last five years is %.2f'%(std_last_five_years))"
   ]
  },
  {
   "cell_type": "code",
   "execution_count": null,
   "id": "9197b538-a8e5-4be4-acba-35ab26c69476",
   "metadata": {},
   "outputs": [],
   "source": []
  },
  {
   "cell_type": "code",
   "execution_count": null,
   "id": "4391677e-5395-4459-9c7d-6b3d851ad9fd",
   "metadata": {},
   "outputs": [],
   "source": []
  }
 ],
 "metadata": {
  "kernelspec": {
   "display_name": "Python 3 (ipykernel)",
   "language": "python",
   "name": "python3"
  },
  "language_info": {
   "codemirror_mode": {
    "name": "ipython",
    "version": 3
   },
   "file_extension": ".py",
   "mimetype": "text/x-python",
   "name": "python",
   "nbconvert_exporter": "python",
   "pygments_lexer": "ipython3",
   "version": "3.10.11"
  }
 },
 "nbformat": 4,
 "nbformat_minor": 5
}
